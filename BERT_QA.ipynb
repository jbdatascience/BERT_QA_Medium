{
 "cells": [
  {
   "cell_type": "code",
   "execution_count": 1,
   "metadata": {},
   "outputs": [],
   "source": [
    "#!pip install transformers\n",
    "#Import libraries. pip install if library does not exist in your environment\n",
    "from transformers import BertForQuestionAnswering\n",
    "from transformers import BertTokenizer\n",
    "tokenizer = BertTokenizer.from_pretrained('bert-large-uncased-whole-word-masking-finetuned-squad')\n",
    "import torch\n",
    "import re\n",
    "import numpy as np\n"
   ]
  },
  {
   "cell_type": "code",
   "execution_count": 2,
   "metadata": {},
   "outputs": [],
   "source": [
    "# Loading BERT model finetuned on SQuAD Question Answer Dataset\n",
    "model = BertForQuestionAnswering.from_pretrained('bert-large-uncased-whole-word-masking-finetuned-squad')"
   ]
  },
  {
   "cell_type": "code",
   "execution_count": 6,
   "metadata": {},
   "outputs": [
    {
     "data": {
      "text/plain": [
       "(17, 17, 5.72, 6.34, 'california')"
      ]
     },
     "execution_count": 6,
     "metadata": {},
     "output_type": "execute_result"
    }
   ],
   "source": [
    "def bert_answering_machine ( question, passage, max_len =  512):\n",
    "    ''' Function to provide answer from passage for question asked.\n",
    "        This function takes question as well as the passage \n",
    "        It retuns answer from the passage, along with start/end token index for the answer and start/end token scores\n",
    "        The scores can be used to rank answers if we are searching answers for same question in multiple passages\n",
    "        Value of maxlen can not exceed 512. If length of question + passage + special tokens is bigger than maxlen, function will truncate extra portion.\n",
    "        \n",
    "    '''\n",
    "  \n",
    "    #Tokenize input question and passage\n",
    "    input_ids = tokenizer.encode ( question, passage,  max_length= max_len, truncation=True)  # Tokenizing question and answer\n",
    "    \n",
    "    #Getting number of tokens in 1st sentence (question) and 2nd sentence (passage)\n",
    "    cls_index = input_ids.index(102) #Getting index of first CLS token\n",
    "    len_question = cls_index + 1       # length of question (1st sentence)\n",
    "    len_answer = len(input_ids)- len_question  # length of answer (2nd sentence)\n",
    "    \n",
    "    \n",
    "    #BERT need Segment Ids to understand which tokens belong to sentence 1 and which to sentence 2\n",
    "    segment_ids =  [0]*len_question + [1]*(len_answer)  #Segment ids will be 0 for question and 1 for answers\n",
    "    \n",
    "    #Converting token ids to tokens\n",
    "    tokens = tokenizer.convert_ids_to_tokens(input_ids) \n",
    "    \n",
    "    \n",
    "    # getting start and end scores for answer \n",
    "    start_scores, end_scores = model(torch.tensor([input_ids]), token_type_ids=torch.tensor([segment_ids]) )\n",
    "\n",
    "    #Converting scores tensors to numpy\n",
    "    start_scores = start_scores.detach().numpy().flatten()\n",
    "    end_scores = end_scores.detach().numpy().flatten()\n",
    "    \n",
    "    #Getting start and end index of answers based on highest scores\n",
    "    answer_start_index = np.argmax(start_scores)\n",
    "    answer_end_index = np.argmax(end_scores)\n",
    "\n",
    "    #Rounding start and end scores\n",
    "    start_score = np.round(start_scores[answer_start_index], 2)\n",
    "    end_score = np.round(end_scores[answer_end_index], 2)\n",
    "    \n",
    "   \n",
    "    #Combining subwords starting with ## so that we can see fullwords in output. Note tokenizer breaks words not in its vocab.\n",
    "    answer = tokens[answer_start_index]\n",
    "    for i in range(answer_start_index + 1, answer_end_index + 1):\n",
    "        if tokens[i][0:2] == '##':\n",
    "            answer += tokens[i][2:]\n",
    "        else:\n",
    "            answer += ' ' + tokens[i]\n",
    "    \n",
    "    # Few patterns indicating  BERT does not get answer from passage for question given\n",
    "    if ( answer_start_index == 0) or (start_score < 0 ) or  (answer == '[SEP]') or ( answer_end_index <  answer_start_index):\n",
    "        answer = \"NO ANSWER FROM BERT\"\n",
    "    \n",
    "    return ( answer_start_index, answer_end_index, start_score, end_score,  answer)\n",
    "\n",
    "\n",
    "#Testing function\n",
    "bert_answering_machine ('Which state john lives', 'My name is John. I live in San Jose, California. I am learning BERT')\n"
   ]
  },
  {
   "cell_type": "code",
   "execution_count": 8,
   "metadata": {},
   "outputs": [
    {
     "name": "stdout",
     "output_type": "stream",
     "text": [
      "Passage:\n",
      " John is a 10 years old boy. He is the son of Robert Smith.  Elizabeth Davis is Robert's wife. Sophia Smith is Elizabeth's daughter. She studies at UC Davis\n",
      "\n",
      "Question:\n",
      " Who is John's sister\n",
      "\n",
      "Answer from BERT:  sophia smith \n",
      "\n",
      "\n",
      "Question:\n",
      " Which college does John's sister attend\n",
      "\n",
      "Answer from BERT:  uc davis \n",
      "\n"
     ]
    }
   ],
   "source": [
    "passage=\"John is a 10 years old boy. He is the son of Robert Smith.  Elizabeth Davis is Robert's wife. Sophia Smith is Elizabeth's daughter. She studies at UC Davis\"\n",
    "\n",
    "\n",
    "print('Passage:\\n', passage )\n",
    "\n",
    "question1 =\"Who is John's sister\"\n",
    "print ('\\nQuestion:\\n', question1)\n",
    "#Getting answer from BERT\n",
    "_, _ , _ , _, ans  = bert_answering_machine ( question1, passage)\n",
    "print('\\nAnswer from BERT: ', ans ,  '\\n')\n",
    "\n",
    "\n",
    "question2 =\"Which college does John's sister attend\"\n",
    "print ('\\nQuestion:\\n', question2)\n",
    "#Getting answer from BERT\n",
    "_, _ , _ , _, ans  = bert_answering_machine ( question2, passage)\n",
    "print('\\nAnswer from BERT: ', ans ,  '\\n')"
   ]
  },
  {
   "cell_type": "code",
   "execution_count": 9,
   "metadata": {},
   "outputs": [
    {
     "name": "stdout",
     "output_type": "stream",
     "text": [
      "\n",
      "Question:\n",
      " Which 2 teams are part of the game\n",
      "\n",
      "Answer from BERT:  miami marlins ' home opening game against the baltimore orioles \n",
      "\n",
      "\n",
      "Question:\n",
      " How many got infected with Coronavirus\n",
      "\n",
      "Answer from BERT:  at least 14 \n",
      "\n"
     ]
    }
   ],
   "source": [
    "passage = \" The Miami Marlins' home opening game against the Baltimore Orioles tonight has been canceled due to a number of players and staff testing \\\n",
    "positive for Covid-19, according to multiple reports. According to ESPN's Jeff Passan, eight players and two coaches have tested positive for coronavirus, \\\n",
    "bringing the total cases on the team to at least 14.Miami played their first three games of the shortened 60-game season in Philadelphia this past weekend, \\\n",
    "winning two of three.The Marlins did not travel back to Miami after the three-game series ended Sunday as they remained overnight for more testing. \\\n",
    "This is the first game to be canceled this season. CNN has reached out to Major League Baseball and the Marlins for comment.\"\n",
    "\n",
    "question1 =\"Which 2 teams are part of the game\"\n",
    "print ('\\nQuestion:\\n', question1)\n",
    "#Getting answer from BERT\n",
    "_, _ , _ , _, ans  = bert_answering_machine ( question1, passage)\n",
    "print('\\nAnswer from BERT: ', ans ,  '\\n')\n",
    "\n",
    "\n",
    "question2 =\"How many got infected with Coronavirus\"\n",
    "print ('\\nQuestion:\\n', question2)\n",
    "#Getting answer from BERT\n",
    "_, _ , _ , _, ans  = bert_answering_machine ( question2, passage)\n",
    "print('\\nAnswer from BERT: ', ans ,  '\\n')"
   ]
  },
  {
   "cell_type": "code",
   "execution_count": 10,
   "metadata": {},
   "outputs": [
    {
     "name": "stdout",
     "output_type": "stream",
     "text": [
      "\n",
      "Question:\n",
      " When we have Independence Day\n",
      "\n",
      "Answer from BERT:  NO ANSWER FROM BERT \n",
      "\n",
      "\n",
      "Question:\n",
      " What's issue in voting for Apple employees\n",
      "\n",
      "Answer from BERT:  it can be difficult for people to find time outside of work to visit a polling place and vote \n",
      "\n"
     ]
    }
   ],
   "source": [
    "passage = \" Apple has told employees it'll provide them with paid time off to vote in the US presidential election on Nov. 3, according to a report. \\\n",
    "Workers, who wish to vote that Tuesday will be given up to four hours of pay, Bloomberg reported Friday citing an internal Apple memo. \\\n",
    "It follows Twitter in June making Election Day a paid holiday for US employees. For retail team members and hourly workers across the company, \\\n",
    "if you are scheduled to work this Election Day, we will be providing up to four hours of paid time off if you need it to get to the polls, \\\n",
    "said Deirdre O'Brien, Apple's senior vice president of retail and people, in the reported memo. Teams can also use this time to volunteer as an \\\n",
    "election worker at one of your local polling stations. Apple didn't immediately respond to a request for comment. \\\n",
    "Since Election Day in the US falls on a Tuesday, it can be difficult for people to find time outside of work to visit a polling place and vote \"\n",
    "\n",
    "question1 =\"When we have Independence Day\"\n",
    "print ('\\nQuestion:\\n', question1)\n",
    "#Getting answer from BERT\n",
    "_, _ , _ , _, ans  = bert_answering_machine ( question1, passage)\n",
    "print('\\nAnswer from BERT: ', ans ,  '\\n')\n",
    "\n",
    "question2 =\"What's issue in voting for Apple employees\"\n",
    "print ('\\nQuestion:\\n', question2)\n",
    "#Getting answer from BERT\n",
    "_, _ , _ , _, ans  = bert_answering_machine ( question2, passage)\n",
    "print('\\nAnswer from BERT: ', ans ,  '\\n')\n",
    "\n"
   ]
  },
  {
   "cell_type": "code",
   "execution_count": 11,
   "metadata": {},
   "outputs": [
    {
     "name": "stdout",
     "output_type": "stream",
     "text": [
      "\n",
      "Question:\n",
      " Which is first film of Sushant\n",
      "\n",
      "Answer from BERT:  kai po che ! \n",
      "\n",
      "\n",
      "Question:\n",
      " Which film Sushant got award\n",
      "\n",
      "Answer from BERT:  m . s . dhoni : the untold story \n",
      "\n",
      "\n",
      "Question:\n",
      " Who supported Sushant\n",
      "\n",
      "Answer from BERT:  indian prime minister narendra modi \n",
      "\n"
     ]
    }
   ],
   "source": [
    "passage = \"Indian actor Sushant Singh Rajput was found dead in his Mumbai residence on Sunday, according to a statement from Mumbai police. He was 34. \\\n",
    "Mumbai police say he took his own life, and an investigation is underway.\\\n",
    "The actor made his debut in Hindi cinema in 2013 in Kai Po Che!, according to the film site IMDb. He was awarded best actor (male) at the Indian Film Festival of Melbourne in 2017 for his movie - M.S. Dhoni: The Untold Story, in which he played Indian cricket star Mahendra Singh Dhoni.\\\n",
    "He also played the role of Manav in the TV series Pavitra Rishta, or Sacred Ties, from 2009 to 2014.\\\n",
    "Rajput's public relations team released a statement on behalf of the family after his death.\\\n",
    "It pains us to share that Sushant Singh Rajput is no longer with us. We request his fans to keep him in their thoughts and celebrate his life, and his work like they have done so far. We request the media to help us maintain privacy at this moment of grief, the statement said. \\\n",
    "Indian Prime Minister Narendra Modi tweeted his condolences on Sunday. \\\n",
    " Singh Rajput...a bright young actor gone too soon. He excelled on TV and in films. His rise in the world of entertainment inspired many and he leaves behind several memorable performances. Shocked by his passing away. My thoughts are with his family and fans. Om Shanti. \"\n",
    "\n",
    "question1 =\"Which is first film of Sushant\"\n",
    "print ('\\nQuestion:\\n', question1)\n",
    "#Getting answer from BERT\n",
    "_, _ , _ , _, ans  = bert_answering_machine ( question1, passage)\n",
    "print('\\nAnswer from BERT: ', ans ,  '\\n')\n",
    "\n",
    "question2 =\"Which film Sushant got award\"\n",
    "print ('\\nQuestion:\\n', question2)\n",
    "#Getting answer from BERT\n",
    "_, _ , _ , _, ans  = bert_answering_machine ( question2, passage)\n",
    "print('\\nAnswer from BERT: ', ans ,  '\\n')\n",
    "\n",
    "question3 =\"Who supported Sushant\"\n",
    "print ('\\nQuestion:\\n', question3)\n",
    "#Getting answer from BERT\n",
    "_, _ , _ , _, ans  = bert_answering_machine ( question3, passage)\n",
    "print('\\nAnswer from BERT: ', ans ,  '\\n')\n"
   ]
  },
  {
   "cell_type": "code",
   "execution_count": null,
   "metadata": {},
   "outputs": [],
   "source": []
  },
  {
   "cell_type": "code",
   "execution_count": null,
   "metadata": {},
   "outputs": [],
   "source": []
  }
 ],
 "metadata": {
  "kernelspec": {
   "display_name": "Python 3",
   "language": "python",
   "name": "python3"
  },
  "language_info": {
   "codemirror_mode": {
    "name": "ipython",
    "version": 3
   },
   "file_extension": ".py",
   "mimetype": "text/x-python",
   "name": "python",
   "nbconvert_exporter": "python",
   "pygments_lexer": "ipython3",
   "version": "3.7.6"
  }
 },
 "nbformat": 4,
 "nbformat_minor": 4
}
